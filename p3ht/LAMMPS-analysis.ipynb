{
 "cells": [
  {
   "cell_type": "code",
   "execution_count": null,
   "metadata": {},
   "outputs": [],
   "source": []
  },
  {
   "cell_type": "markdown",
   "metadata": {},
   "source": [
    "## SUPPOSED TO COME AFTER INITIALIZING DATA and FUNCTIONS IN THE draft-analysis notebook"
   ]
  },
  {
   "cell_type": "markdown",
   "metadata": {},
   "source": [
    "moved here for organizational purposes"
   ]
  },
  {
   "cell_type": "markdown",
   "metadata": {},
   "source": []
  },
  {
   "cell_type": "code",
   "execution_count": null,
   "metadata": {},
   "outputs": [],
   "source": [
    "for file in os.listdir('./XYZ_Files/'):\n",
    "    if \"Theta\" in file:\n",
    "        name=file.split('.')[0]\n",
    "        lammps_file = \"UNK_A7CF9B.lmp\"\n",
    "        output = f\"{name}.lmp\"\n",
    "        new_coords = read_xyz(f\"./XYZ_Files/{file}\")\n",
    "        update_lammps_data(lammps_file, new_coords, output)"
   ]
  },
  {
   "cell_type": "code",
   "execution_count": null,
   "metadata": {},
   "outputs": [],
   "source": [
    "%%time\n",
    "import os\n",
    "\n",
    "\n",
    "template_input = '''units           real\n",
    "atom_style      full\n",
    "pair_style      lj/cut/coul/cut 10.0 13.4\n",
    "bond_style      harmonic\n",
    "angle_style     harmonic\n",
    "dihedral_style  opls\n",
    "special_bonds   lj/coul 0 0 0.5\n",
    "improper_style  cvff\n",
    "pair_modify mix geometric\n",
    "dielectric 4.9\n",
    "read_data       {data_file}\n",
    "timestep 1.0\n",
    "thermo 1\n",
    "thermo_style multi\n",
    "neighbor 2.0 bin\n",
    "run_style verlet\n",
    "run 0\n",
    "'''\n",
    "\n",
    "files = os.listdir('./lammps_files_ligpargen/')\n",
    "lmp_files = [file for file in files if file.endswith(\".lmp\")]\n",
    "\n",
    "for file in tqdm(lmp_files):\n",
    "    if file.endswith(\".lmp\"):\n",
    "        name=file.split(\".\")[0]\n",
    "        data_file_path = os.path.join('./lammps_files_ligpargen/', file)\n",
    "        input_file_path = os.path.join('./lammps_files_ligpargen/', f\"{name}.lmpin\")\n",
    "        \n",
    "        # Create an input file for LAMMPS, replacing ${data_file} with the actual file name\n",
    "        with open(input_file_path, 'w') as f:\n",
    "            f.write(template_input.format(data_file=data_file_path))\n",
    "\n",
    "        # Run LAMMPS using subprocess\n",
    "        # print(f\"running {name}\")\n",
    "        # print(\" \".join([\"/usr/bin/lmp\", \"-in\", input_file_path, \"-log\", f\"{name}.log\"]))\n",
    "        with open(os.devnull, 'w') as fnull:\n",
    "            subprocess.run([\"/usr/bin/lmp\", \"-in\", input_file_path, \"-log\", f\"{name}.log\"], stdout=fnull)\n"
   ]
  },
  {
   "cell_type": "code",
   "execution_count": null,
   "metadata": {},
   "outputs": [],
   "source": [
    "\n",
    "# Regular expression for extracting phi and theta from filename\n",
    "filename_pattern = re.compile(r\"_Phi_(\\d+)_Theta_(\\d+)_\")\n",
    "\n",
    "# Initialize an empty DataFrame to hold all the data\n",
    "all_data = pd.DataFrame()\n",
    "\n",
    "\n",
    "files = os.listdir('./lammps_files_ligpargen/')\n",
    "log_files = [file for file in files if file.endswith(\".log\")]\n",
    "\n",
    "# Loop through log files\n",
    "for filename in log_files:  # Replace with your log files directory\n",
    "    match = filename_pattern.search(filename)\n",
    "    if match:\n",
    "        phi = int(match.group(1))\n",
    "        theta = int(match.group(2))\n",
    "        # Find the section with thermo data\n",
    "        df = parse_lammps_log(os.path.join('./lammps_files_ligpargen/', filename))[0]\n",
    "    \n",
    "        # Add theta and phi columns (Assume you have a way to get these from the filename or file content)\n",
    "        df['theta'] = theta  # Replace with actual value\n",
    "        df['phi'] = phi  # Replace with actual value\n",
    "    \n",
    "        # Append to the overall DataFrame\n",
    "        all_data = pd.concat([all_data, df], ignore_index=True)\n",
    "\n",
    "# Convert to appropriate data types\n",
    "all_data = all_data.apply(pd.to_numeric, errors='ignore')\n",
    "\n",
    "# Sort by theta and phi\n",
    "sorted_data = all_data.sort_values(['theta', 'phi'])"
   ]
  },
  {
   "cell_type": "code",
   "execution_count": null,
   "metadata": {},
   "outputs": [],
   "source": [
    "sorted_data"
   ]
  },
  {
   "cell_type": "code",
   "execution_count": null,
   "metadata": {},
   "outputs": [],
   "source": [
    "for phi in set(sorted_data['phi']):\n",
    "    subset = sorted_data[sorted_data['phi'] == phi]\n",
    "    # plt.plot(subset['theta'], subset['PotEng'])  # Replace 'E_total' with the actual column name for total energy\n",
    "    plt.plot(subset['theta'], subset['E_dihed'])  # Replace 'E_total' with the actual column name for total energy\n",
    "    # plt.plot(subset['theta'], subset['E_dihed'], c=\"red\")  # Replace 'E_total' with the actual column name for total energy\n",
    "    # plt.plot(subset['theta'], subset['E_impro'], c=\"black\")  # Replace 'E_total' with the actual column name for total energy\n",
    "plt.xlabel('Theta (degrees)')\n",
    "plt.ylabel('Total Energy (kcal/mol)')\n",
    "plt.title(f'Energy components vs Theta for all Phi')\n",
    "plt.show()"
   ]
  },
  {
   "cell_type": "code",
   "execution_count": null,
   "metadata": {},
   "outputs": [],
   "source": [
    "for phi in set(sorted_data['phi']):\n",
    "    subset = sorted_data[sorted_data['phi'] == phi]\n",
    "    # plt.plot(subset['theta'], subset['PotEng'])  # Replace 'E_total' with the actual column name for total energy\n",
    "    plt.plot(subset['theta'], subset['E_vdwl'])  # Replace 'E_total' with the actual column name for total energy\n",
    "    # plt.plot(subset['theta'], subset['E_dihed'], c=\"red\")  # Replace 'E_total' with the actual column name for total energy\n",
    "    # plt.plot(subset['theta'], subset['E_impro'], c=\"black\")  # Replace 'E_total' with the actual column name for total energy\n",
    "plt.xlabel('Theta (degrees)')\n",
    "plt.ylabel('Total Energy (kcal/mol)')\n",
    "plt.title(f'Energy components vs Theta for all Phi')\n",
    "plt.show()"
   ]
  }
 ],
 "metadata": {
  "language_info": {
   "name": "python"
  }
 },
 "nbformat": 4,
 "nbformat_minor": 2
}

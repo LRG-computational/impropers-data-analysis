{
 "cells": [
  {
   "cell_type": "code",
   "execution_count": 1,
   "id": "336b1984-3de9-4e1f-9bba-41461086276b",
   "metadata": {},
   "outputs": [],
   "source": [
    "import os\n",
    "import subprocess\n",
    "from tqdm.notebook import tqdm\n",
    "import pandas as pd\n",
    "import matplotlib.pyplot as plt\n",
    "import re\n",
    "from pymatgen.io.lammps.outputs import parse_lammps_log\n",
    "import numpy as np"
   ]
  },
  {
   "cell_type": "code",
   "execution_count": 2,
   "id": "cf2b525f-6202-451a-b713-f7f2318aa4c1",
   "metadata": {
    "jupyter": {
     "source_hidden": true
    }
   },
   "outputs": [],
   "source": [
    "# Define a function for parsing QChem outfiles with structured naming scheme\n",
    "def extract_qchem_energies(path, filename_pattern, energy_pattern):\n",
    "    # Initialize nested dictionary\n",
    "    data = {}\n",
    "    # Loop through each file in the directory\n",
    "    for filename in os.listdir(directory_path):\n",
    "        if filename.endswith(\".out\") and filename.startswith(\"Di\"):\n",
    "            # Extract phi and theta from filename\n",
    "            match = filename_pattern.search(filename)\n",
    "            if match:\n",
    "                phi = int(match.group(1))\n",
    "                theta = int(match.group(2))\n",
    "    \n",
    "                # Read file and search for energy\n",
    "                with open(os.path.join(directory_path, filename), 'r') as f:\n",
    "                    energy_found = False\n",
    "                    for line in f:\n",
    "                        energy_match = energy_pattern.search(line)\n",
    "                        if energy_match:\n",
    "                            energy = float(energy_match.group(1))\n",
    "    \n",
    "                            # Store in nested dictionary\n",
    "                            if phi not in data:\n",
    "                                data[phi] = {}\n",
    "                            data[phi][theta] = energy\n",
    "    \n",
    "                            energy_found = True\n",
    "                            break\n",
    "    \n",
    "                    # Throw a warning if energy is not found\n",
    "                    if not energy_found:\n",
    "                        print(f\"Warning: Energy not found in file {filename}\")\n",
    "            else:\n",
    "                print(f\"Warning: Could not extract Phi and Theta values from filename {filename}\")\n",
    "    return data"
   ]
  },
  {
   "cell_type": "code",
   "execution_count": null,
   "id": "03749a2a-f602-4530-b688-c9939e2eb52f",
   "metadata": {},
   "outputs": [],
   "source": []
  },
  {
   "cell_type": "markdown",
   "id": "bb4dd18a-ed75-4fdc-a64b-80d092091351",
   "metadata": {},
   "source": [
    "### Get Standard Scan Energies"
   ]
  },
  {
   "cell_type": "code",
   "execution_count": 3,
   "id": "5328c290-ece9-4ee0-99b4-7af1bd9c7f9e",
   "metadata": {
    "jupyter": {
     "source_hidden": true
    }
   },
   "outputs": [
    {
     "ename": "FileNotFoundError",
     "evalue": "[Errno 2] No such file or directory: './Standard_Dimer_Scan_Outputs/'",
     "output_type": "error",
     "traceback": [
      "\u001b[0;31m---------------------------------------------------------------------------\u001b[0m",
      "\u001b[0;31mFileNotFoundError\u001b[0m                         Traceback (most recent call last)",
      "Cell \u001b[0;32mIn[3], line 11\u001b[0m\n\u001b[1;32m      8\u001b[0m energy_pattern \u001b[38;5;241m=\u001b[39m re\u001b[38;5;241m.\u001b[39mcompile(\u001b[38;5;124mr\u001b[39m\u001b[38;5;124m\"\u001b[39m\u001b[38;5;124m\\\u001b[39m\u001b[38;5;124ms+Total energy in the final basis set =\u001b[39m\u001b[38;5;124m\\\u001b[39m\u001b[38;5;124ms+(-?\u001b[39m\u001b[38;5;124m\\\u001b[39m\u001b[38;5;124md+\u001b[39m\u001b[38;5;124m\\\u001b[39m\u001b[38;5;124m.\u001b[39m\u001b[38;5;124m\\\u001b[39m\u001b[38;5;124md+)\u001b[39m\u001b[38;5;124m\"\u001b[39m)\n\u001b[1;32m      9\u001b[0m rimp2_pattern \u001b[38;5;241m=\u001b[39m re\u001b[38;5;241m.\u001b[39mcompile(\u001b[38;5;124mr\u001b[39m\u001b[38;5;124m\"\u001b[39m\u001b[38;5;124mRIMP2\u001b[39m\u001b[38;5;124m\\\u001b[39m\u001b[38;5;124ms+total energy =\u001b[39m\u001b[38;5;124m\\\u001b[39m\u001b[38;5;124ms+(-?\u001b[39m\u001b[38;5;124m\\\u001b[39m\u001b[38;5;124md+\u001b[39m\u001b[38;5;124m\\\u001b[39m\u001b[38;5;124m.\u001b[39m\u001b[38;5;124m\\\u001b[39m\u001b[38;5;124md+) a\u001b[39m\u001b[38;5;124m\\\u001b[39m\u001b[38;5;124m.u\u001b[39m\u001b[38;5;124m\\\u001b[39m\u001b[38;5;124m.\u001b[39m\u001b[38;5;124m\"\u001b[39m)\n\u001b[0;32m---> 11\u001b[0m energy_total \u001b[38;5;241m=\u001b[39m extract_qchem_energies(directory_path, filename_pattern, energy_pattern)\n\u001b[1;32m     12\u001b[0m rimp2_total \u001b[38;5;241m=\u001b[39m extract_qchem_energies(directory_path, filename_pattern, rimp2_pattern)\n",
      "Cell \u001b[0;32mIn[2], line 6\u001b[0m, in \u001b[0;36mextract_qchem_energies\u001b[0;34m(path, filename_pattern, energy_pattern)\u001b[0m\n\u001b[1;32m      4\u001b[0m data \u001b[38;5;241m=\u001b[39m {}\n\u001b[1;32m      5\u001b[0m \u001b[38;5;66;03m# Loop through each file in the directory\u001b[39;00m\n\u001b[0;32m----> 6\u001b[0m \u001b[38;5;28;01mfor\u001b[39;00m filename \u001b[38;5;129;01min\u001b[39;00m os\u001b[38;5;241m.\u001b[39mlistdir(directory_path):\n\u001b[1;32m      7\u001b[0m     \u001b[38;5;28;01mif\u001b[39;00m filename\u001b[38;5;241m.\u001b[39mendswith(\u001b[38;5;124m\"\u001b[39m\u001b[38;5;124m.out\u001b[39m\u001b[38;5;124m\"\u001b[39m) \u001b[38;5;129;01mand\u001b[39;00m filename\u001b[38;5;241m.\u001b[39mstartswith(\u001b[38;5;124m\"\u001b[39m\u001b[38;5;124mDi\u001b[39m\u001b[38;5;124m\"\u001b[39m):\n\u001b[1;32m      8\u001b[0m         \u001b[38;5;66;03m# Extract phi and theta from filename\u001b[39;00m\n\u001b[1;32m      9\u001b[0m         match \u001b[38;5;241m=\u001b[39m filename_pattern\u001b[38;5;241m.\u001b[39msearch(filename)\n",
      "\u001b[0;31mFileNotFoundError\u001b[0m: [Errno 2] No such file or directory: './Standard_Dimer_Scan_Outputs/'"
     ]
    }
   ],
   "source": [
    "# Specify directory to search for files\n",
    "directory_path = \"./Standard_Dimer_Scan_Outputs/\"\n",
    "\n",
    "# Regular expression for extracting phi and theta from filename\n",
    "filename_pattern = re.compile(r\"_Phi_(\\d+)_Theta_(\\d+)_\")\n",
    "\n",
    "# Regular expression for extracting energy from file content\n",
    "energy_pattern = re.compile(r\"\\s+Total energy in the final basis set =\\s+(-?\\d+\\.\\d+)\")\n",
    "rimp2_pattern = re.compile(r\"RIMP2\\s+total energy =\\s+(-?\\d+\\.\\d+) a\\.u\\.\")\n",
    "\n",
    "energy_total = extract_qchem_energies(directory_path, filename_pattern, energy_pattern)\n",
    "rimp2_total = extract_qchem_energies(directory_path, filename_pattern, rimp2_pattern)"
   ]
  },
  {
   "cell_type": "markdown",
   "id": "cbc766d7-d599-464e-94e0-fc4d91fe464c",
   "metadata": {},
   "source": [
    "### Get Hydrogenated Scan Energies"
   ]
  },
  {
   "cell_type": "code",
   "execution_count": null,
   "id": "ff56bfa8-7d35-4970-ac6e-86108d8863c6",
   "metadata": {
    "jupyter": {
     "source_hidden": true
    }
   },
   "outputs": [],
   "source": [
    "# Specify directory to search for files\n",
    "directory_path = \"./Hydrogenated_Dimer_Scan_Outputs/\"\n",
    "\n",
    "# Regular expression for extracting phi and theta from filename\n",
    "filename_pattern = re.compile(r\"_Phi_(\\d+)_Theta_(\\d+)_\")\n",
    "\n",
    "# Regular expression for extracting energy from file content\n",
    "energy_pattern = re.compile(r\"\\s+Total energy in the final basis set =\\s+(-?\\d+\\.\\d+)\")\n",
    "rimp2_pattern = re.compile(r\"RIMP2\\s+total energy =\\s+(-?\\d+\\.\\d+) a\\.u\\.\")\n",
    "\n",
    "energy_hyd = extract_qchem_energies(directory_path, filename_pattern, energy_pattern)\n",
    "rimp2_hyd = extract_qchem_energies(directory_path, filename_pattern, rimp2_pattern)"
   ]
  },
  {
   "cell_type": "markdown",
   "id": "c4d9153a-8334-4672-8b7f-886de266df68",
   "metadata": {},
   "source": [
    "### Get Methylated Scan Energies"
   ]
  },
  {
   "cell_type": "code",
   "execution_count": null,
   "id": "f316529a-abbb-4775-9220-2bf065055577",
   "metadata": {
    "jupyter": {
     "source_hidden": true
    }
   },
   "outputs": [],
   "source": [
    "# Specify directory to search for files\n",
    "directory_path = \"./Hydrogenated_Improper_Scan_Outputs/\"\n",
    "\n",
    "# Regular expression for extracting phi and theta from filename\n",
    "filename_pattern = re.compile(r\"_Phi_(\\d+)_Theta_(\\d+)_\")\n",
    "\n",
    "# Regular expression for extracting energy from file content\n",
    "energy_pattern = re.compile(r\"\\s+Total energy in the final basis set =\\s+(-?\\d+\\.\\d+)\")\n",
    "rimp2_pattern = re.compile(r\"RIMP2\\s+total energy =\\s+(-?\\d+\\.\\d+) a\\.u\\.\")\n",
    "\n",
    "energy_meth = extract_qchem_energies(directory_path, filename_pattern, energy_pattern)\n",
    "rimp2_meth = extract_qchem_energies(directory_path, filename_pattern, rimp2_pattern)"
   ]
  },
  {
   "cell_type": "code",
   "execution_count": null,
   "id": "6b129a5c-ea34-4d2f-a51e-aadc5e92c792",
   "metadata": {},
   "outputs": [],
   "source": []
  }
 ],
 "metadata": {
  "kernelspec": {
   "display_name": "Python 3 (ipykernel)",
   "language": "python",
   "name": "python3"
  },
  "language_info": {
   "codemirror_mode": {
    "name": "ipython",
    "version": 3
   },
   "file_extension": ".py",
   "mimetype": "text/x-python",
   "name": "python",
   "nbconvert_exporter": "python",
   "pygments_lexer": "ipython3",
   "version": "3.11.5"
  }
 },
 "nbformat": 4,
 "nbformat_minor": 5
}

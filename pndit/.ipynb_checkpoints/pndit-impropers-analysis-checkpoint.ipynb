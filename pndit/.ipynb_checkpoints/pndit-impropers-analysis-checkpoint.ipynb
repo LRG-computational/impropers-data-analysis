{
 "cells": [
  {
   "cell_type": "code",
   "execution_count": 1,
   "id": "336b1984-3de9-4e1f-9bba-41461086276b",
   "metadata": {},
   "outputs": [],
   "source": [
    "import os\n",
    "import subprocess\n",
    "from tqdm.notebook import tqdm\n",
    "import pandas as pd\n",
    "import matplotlib.pyplot as plt\n",
    "import re\n",
    "from pymatgen.io.lammps.outputs import parse_lammps_log\n",
    "import numpy as np"
   ]
  },
  {
   "cell_type": "code",
   "execution_count": 3,
   "id": "cf2b525f-6202-451a-b713-f7f2318aa4c1",
   "metadata": {
    "jupyter": {
     "source_hidden": true
    }
   },
   "outputs": [],
   "source": [
    "# Define a function for parsing QChem outfiles with structured naming scheme\n",
    "def extract_qchem_energies(path, filename_pattern, energy_pattern):\n",
    "    # Initialize nested dictionary\n",
    "    data = {}\n",
    "    # Loop through each file in the directory\n",
    "    for filename in os.listdir(directory_path):\n",
    "        if filename.endswith(\".out\") and filename.startswith(\"Di\"):\n",
    "            # Extract phi and theta from filename\n",
    "            match = filename_pattern.search(filename)\n",
    "            if match:\n",
    "                phi = int(match.group(1))\n",
    "                theta = int(match.group(2))\n",
    "    \n",
    "                # Read file and search for energy\n",
    "                with open(os.path.join(directory_path, filename), 'r') as f:\n",
    "                    energy_found = False\n",
    "                    for line in f:\n",
    "                        energy_match = energy_pattern.search(line)\n",
    "                        if energy_match:\n",
    "                            energy = float(energy_match.group(1))\n",
    "    \n",
    "                            # Store in nested dictionary\n",
    "                            if phi not in data:\n",
    "                                data[phi] = {}\n",
    "                            data[phi][theta] = energy\n",
    "    \n",
    "                            energy_found = True\n",
    "                            break\n",
    "    \n",
    "                    # Throw a warning if energy is not found\n",
    "                    if not energy_found:\n",
    "                        print(f\"Warning: Energy not found in file {filename}\")\n",
    "            else:\n",
    "                print(f\"Warning: Could not extract Phi and Theta values from filename {filename}\")\n",
    "    return data"
   ]
  },
  {
   "cell_type": "code",
   "execution_count": null,
   "id": "03749a2a-f602-4530-b688-c9939e2eb52f",
   "metadata": {},
   "outputs": [],
   "source": []
  },
  {
   "cell_type": "markdown",
   "id": "bb4dd18a-ed75-4fdc-a64b-80d092091351",
   "metadata": {},
   "source": [
    "### Get Standard Scan Energies"
   ]
  },
  {
   "cell_type": "code",
   "execution_count": 4,
   "id": "5328c290-ece9-4ee0-99b4-7af1bd9c7f9e",
   "metadata": {
    "jupyter": {
     "source_hidden": true
    }
   },
   "outputs": [],
   "source": [
    "# Specify directory to search for files\n",
    "directory_path = \"./Standard_Dimer_Scan_Outputs/\"\n",
    "\n",
    "# Regular expression for extracting phi and theta from filename\n",
    "filename_pattern = re.compile(r\"_Phi_(\\d+)_Theta_(\\d+)_\")\n",
    "\n",
    "# Regular expression for extracting energy from file content\n",
    "energy_pattern = re.compile(r\"\\s+Total energy in the final basis set =\\s+(-?\\d+\\.\\d+)\")\n",
    "rimp2_pattern = re.compile(r\"RIMP2\\s+total energy =\\s+(-?\\d+\\.\\d+) a\\.u\\.\")\n",
    "\n",
    "energy_total = extract_qchem_energies(directory_path, filename_pattern, energy_pattern)\n",
    "rimp2_total = extract_qchem_energies(directory_path, filename_pattern, rimp2_pattern)"
   ]
  },
  {
   "cell_type": "markdown",
   "id": "cbc766d7-d599-464e-94e0-fc4d91fe464c",
   "metadata": {},
   "source": [
    "### Get Hydrogenated Scan Energies"
   ]
  },
  {
   "cell_type": "code",
   "execution_count": 5,
   "id": "ff56bfa8-7d35-4970-ac6e-86108d8863c6",
   "metadata": {
    "jupyter": {
     "source_hidden": true
    }
   },
   "outputs": [],
   "source": [
    "# Specify directory to search for files\n",
    "directory_path = \"./Hydrogenated_Dimer_Scan_Outputs/\"\n",
    "\n",
    "# Regular expression for extracting phi and theta from filename\n",
    "filename_pattern = re.compile(r\"_Phi_(\\d+)_Theta_(\\d+)_\")\n",
    "\n",
    "# Regular expression for extracting energy from file content\n",
    "energy_pattern = re.compile(r\"\\s+Total energy in the final basis set =\\s+(-?\\d+\\.\\d+)\")\n",
    "rimp2_pattern = re.compile(r\"RIMP2\\s+total energy =\\s+(-?\\d+\\.\\d+) a\\.u\\.\")\n",
    "\n",
    "energy_hyd = extract_qchem_energies(directory_path, filename_pattern, energy_pattern)\n",
    "rimp2_hyd = extract_qchem_energies(directory_path, filename_pattern, rimp2_pattern)"
   ]
  },
  {
   "cell_type": "markdown",
   "id": "c4d9153a-8334-4672-8b7f-886de266df68",
   "metadata": {},
   "source": [
    "### Get Methylated Scan Energies"
   ]
  },
  {
   "cell_type": "code",
   "execution_count": 6,
   "id": "f316529a-abbb-4775-9220-2bf065055577",
   "metadata": {
    "jupyter": {
     "source_hidden": true
    }
   },
   "outputs": [],
   "source": [
    "# Specify directory to search for files\n",
    "directory_path = \"./Hydrogenated_Improper_Scan_Outputs/\"\n",
    "\n",
    "# Regular expression for extracting phi and theta from filename\n",
    "filename_pattern = re.compile(r\"_Phi_(\\d+)_Theta_(\\d+)_\")\n",
    "\n",
    "# Regular expression for extracting energy from file content\n",
    "energy_pattern = re.compile(r\"\\s+Total energy in the final basis set =\\s+(-?\\d+\\.\\d+)\")\n",
    "rimp2_pattern = re.compile(r\"RIMP2\\s+total energy =\\s+(-?\\d+\\.\\d+) a\\.u\\.\")\n",
    "\n",
    "energy_meth = extract_qchem_energies(directory_path, filename_pattern, energy_pattern)\n",
    "rimp2_meth = extract_qchem_energies(directory_path, filename_pattern, rimp2_pattern)"
   ]
  },
  {
   "cell_type": "code",
   "execution_count": null,
   "id": "6b129a5c-ea34-4d2f-a51e-aadc5e92c792",
   "metadata": {},
   "outputs": [],
   "source": []
  }
 ],
 "metadata": {
  "kernelspec": {
   "display_name": "Python 3 (ipykernel)",
   "language": "python",
   "name": "python3"
  },
  "language_info": {
   "codemirror_mode": {
    "name": "ipython",
    "version": 3
   },
   "file_extension": ".py",
   "mimetype": "text/x-python",
   "name": "python",
   "nbconvert_exporter": "python",
   "pygments_lexer": "ipython3",
   "version": "3.11.5"
  }
 },
 "nbformat": 4,
 "nbformat_minor": 5
}
